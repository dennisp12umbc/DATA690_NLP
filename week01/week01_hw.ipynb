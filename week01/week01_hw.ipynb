{
 "cells": [
  {
   "cell_type": "markdown",
   "id": "f25ffe1c",
   "metadata": {},
   "source": [
    "Dennis Piliptchak"
   ]
  },
  {
   "cell_type": "markdown",
   "id": "96c37b79",
   "metadata": {},
   "source": [
    "### 1. Which of the following is not an application of NLP?\n",
    "a. Image labeling<br>\n",
    "b. Poetry generation<br>\n",
    "c. Sentimental analysis<br>\n",
    "d. E-mail classification<br>\n",
    "\n",
    "**a. Image labeling**"
   ]
  },
  {
   "cell_type": "markdown",
   "id": "c8394d4c",
   "metadata": {},
   "source": [
    "### 2. Which of the following is not an NLP task?\n",
    "a. Tokenization<br>\n",
    "b. Stop word removal<br>\n",
    "c. Part-of-speech tagging<br>\n",
    "d. Image segmentation<br>\n",
    "\n",
    "**d. Image segmentation**"
   ]
  },
  {
   "cell_type": "markdown",
   "id": "644fe43c",
   "metadata": {},
   "source": [
    "### 3. Which of the following is not a disadvantage of rule-based approaches for NLP?\n",
    "a. Not flexible<br>\n",
    "b. Not scalable<br>\n",
    "c. Requires huge dataset<br>\n",
    "d. None of the above<br>\n",
    "\n",
    "**d. None of the above**"
   ]
  },
  {
   "cell_type": "markdown",
   "id": "3df71ed9",
   "metadata": {},
   "source": [
    "### 4. What are the two major types of NLP approaches?\n",
    "\n",
    "1) Rule-based approach, which involves specific linguistic rules set by linguists based on syntax, semantics, morphology, etc. \n",
    "2) Probabilistic/Machine Learning approach, which involves using machine learning algorithms on enormous data sets to extract patterns from data."
   ]
  },
  {
   "cell_type": "markdown",
   "id": "1db310b3",
   "metadata": {},
   "source": [
    "### 5. Use TextBlob to translate a sentence in English into French, Mandarin, and Hindi?\n",
    "a. Import TextBlob<br>\n",
    "b. Languages are coded as ‘fr’, ‘zh-CN’, ‘hi’<br>\n",
    "c. Translate the following sentence “Who knew translation could be fun” into\n",
    "French, Mandarin, and Hindi"
   ]
  },
  {
   "cell_type": "code",
   "execution_count": 1,
   "id": "80922d74",
   "metadata": {},
   "outputs": [],
   "source": [
    "from textblob import TextBlob"
   ]
  },
  {
   "cell_type": "code",
   "execution_count": 2,
   "id": "8f1a08c3",
   "metadata": {},
   "outputs": [
    {
     "name": "stdout",
     "output_type": "stream",
     "text": [
      "English: Who knew translation could be fun\n",
      "French: Qui savait que la traduction pouvait être amusante\n",
      "Mandarin: 谁知道翻译可能很有趣\n",
      "Hindi: कौन जानता था कि अनुवाद मजेदार हो सकता है\n"
     ]
    }
   ],
   "source": [
    "example_sentence = \"Who knew translation could be fun\"\n",
    "blob = TextBlob(example_sentence)\n",
    "\n",
    "print(f\"English: {blob}\")\n",
    "print(f\"French: {blob.translate(from_lang='en', to='fr')}\")\n",
    "print(f\"Mandarin: {blob.translate(from_lang='en', to='zh-CN')}\")\n",
    "print(f\"Hindi: {blob.translate(from_lang='en', to='hi')}\")"
   ]
  },
  {
   "cell_type": "code",
   "execution_count": null,
   "id": "72dc5fe8",
   "metadata": {},
   "outputs": [],
   "source": []
  }
 ],
 "metadata": {
  "kernelspec": {
   "display_name": "Python 3 (ipykernel)",
   "language": "python",
   "name": "python3"
  },
  "language_info": {
   "codemirror_mode": {
    "name": "ipython",
    "version": 3
   },
   "file_extension": ".py",
   "mimetype": "text/x-python",
   "name": "python",
   "nbconvert_exporter": "python",
   "pygments_lexer": "ipython3",
   "version": "3.11.3"
  }
 },
 "nbformat": 4,
 "nbformat_minor": 5
}
