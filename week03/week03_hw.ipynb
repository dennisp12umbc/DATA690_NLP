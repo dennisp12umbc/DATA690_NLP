{
 "cells": [
  {
   "cell_type": "markdown",
   "id": "85978fac",
   "metadata": {},
   "source": [
    "Dennis Piliptchak"
   ]
  },
  {
   "cell_type": "markdown",
   "id": "2f525849",
   "metadata": {},
   "source": [
    "Exercise 1 mostly generated with ChatGPT 3.5 using the following prompt:\n",
    "\n",
    "Write Python code to complete this text classification exercise:\n",
    "1. Use the train.tsv dataset at https://www.kaggle.com/c/sentiment-analysis-on-movie-reviews/data\n",
    "2. Take a look at the data and get info about the data\n",
    "3. Count the number of expressed sentiments by category\n",
    "4. Provide a histogram of sentiments by category\n",
    "5. Generate document term matrix by using scikit-learn's CountVectorizer. Tokenize\n",
    "and remove symbols and numbers\n",
    "6. Split dataset (the test dataset represents 30% of the total data).\n",
    "7. Import the MultinomialNB module and create a Multinomial Naive Bayes\n",
    "classifier object using MultinomialNB() function. Compute the model accuracy.\n",
    "8. TF-IDF(Term Frequency-Inverse Document Frequency) normalizes the\n",
    "document term matrix. It is the product of TF and IDF. Word with high tf-idf in a\n",
    "document, it is most of the times occurred in given documents and must be\n",
    "absent in the other documents. So, the words must be a signature word. Use\n",
    "TfidfVectorizer() for 'Phrase'.\n",
    "9. Split dataset by using function train_test_split(). You need to pass basically 3\n",
    "parameters features, target, and test_set size. Additionally, you can use\n",
    "random_state to select records randomly.\n",
    "10.Build the Text Classification Model using TF-IDF.\n",
    "11.First, import the MultinomialNB module and create the Multinomial Naive Bayes\n",
    "classifier object using MultinomialNB() function.\n",
    "12.Then, fit your model on a train set using fit() and perform prediction on the test\n",
    "set using predict()."
   ]
  },
  {
   "cell_type": "code",
   "execution_count": 1,
   "id": "27f709f4",
   "metadata": {},
   "outputs": [],
   "source": [
    "import pandas as pd\n",
    "import numpy as np\n",
    "import matplotlib.pyplot as plt\n",
    "from sklearn.feature_extraction.text import CountVectorizer, TfidfVectorizer\n",
    "from sklearn.model_selection import train_test_split\n",
    "from sklearn.naive_bayes import MultinomialNB\n",
    "from sklearn.metrics import accuracy_score"
   ]
  },
  {
   "cell_type": "code",
   "execution_count": 2,
   "id": "6495bcdd",
   "metadata": {},
   "outputs": [],
   "source": [
    "# Load the dataset\n",
    "df = pd.read_csv(\"C:/Users/denap/Downloads/train.tsv\", sep='\\t')"
   ]
  },
  {
   "cell_type": "code",
   "execution_count": 3,
   "id": "205333a7",
   "metadata": {},
   "outputs": [
    {
     "data": {
      "text/html": [
       "<div>\n",
       "<style scoped>\n",
       "    .dataframe tbody tr th:only-of-type {\n",
       "        vertical-align: middle;\n",
       "    }\n",
       "\n",
       "    .dataframe tbody tr th {\n",
       "        vertical-align: top;\n",
       "    }\n",
       "\n",
       "    .dataframe thead th {\n",
       "        text-align: right;\n",
       "    }\n",
       "</style>\n",
       "<table border=\"1\" class=\"dataframe\">\n",
       "  <thead>\n",
       "    <tr style=\"text-align: right;\">\n",
       "      <th></th>\n",
       "      <th>PhraseId</th>\n",
       "      <th>SentenceId</th>\n",
       "      <th>Phrase</th>\n",
       "      <th>Sentiment</th>\n",
       "    </tr>\n",
       "  </thead>\n",
       "  <tbody>\n",
       "    <tr>\n",
       "      <th>0</th>\n",
       "      <td>1</td>\n",
       "      <td>1</td>\n",
       "      <td>A series of escapades demonstrating the adage ...</td>\n",
       "      <td>1</td>\n",
       "    </tr>\n",
       "    <tr>\n",
       "      <th>1</th>\n",
       "      <td>2</td>\n",
       "      <td>1</td>\n",
       "      <td>A series of escapades demonstrating the adage ...</td>\n",
       "      <td>2</td>\n",
       "    </tr>\n",
       "    <tr>\n",
       "      <th>2</th>\n",
       "      <td>3</td>\n",
       "      <td>1</td>\n",
       "      <td>A series</td>\n",
       "      <td>2</td>\n",
       "    </tr>\n",
       "    <tr>\n",
       "      <th>3</th>\n",
       "      <td>4</td>\n",
       "      <td>1</td>\n",
       "      <td>A</td>\n",
       "      <td>2</td>\n",
       "    </tr>\n",
       "    <tr>\n",
       "      <th>4</th>\n",
       "      <td>5</td>\n",
       "      <td>1</td>\n",
       "      <td>series</td>\n",
       "      <td>2</td>\n",
       "    </tr>\n",
       "  </tbody>\n",
       "</table>\n",
       "</div>"
      ],
      "text/plain": [
       "   PhraseId  SentenceId                                             Phrase  \\\n",
       "0         1           1  A series of escapades demonstrating the adage ...   \n",
       "1         2           1  A series of escapades demonstrating the adage ...   \n",
       "2         3           1                                           A series   \n",
       "3         4           1                                                  A   \n",
       "4         5           1                                             series   \n",
       "\n",
       "   Sentiment  \n",
       "0          1  \n",
       "1          2  \n",
       "2          2  \n",
       "3          2  \n",
       "4          2  "
      ]
     },
     "execution_count": 3,
     "metadata": {},
     "output_type": "execute_result"
    }
   ],
   "source": [
    "df.head()"
   ]
  },
  {
   "cell_type": "code",
   "execution_count": 4,
   "id": "821c959a",
   "metadata": {},
   "outputs": [
    {
     "data": {
      "text/plain": [
       "(156060, 4)"
      ]
     },
     "execution_count": 4,
     "metadata": {},
     "output_type": "execute_result"
    }
   ],
   "source": [
    "df.shape"
   ]
  },
  {
   "cell_type": "code",
   "execution_count": 5,
   "id": "32b03368",
   "metadata": {},
   "outputs": [
    {
     "name": "stdout",
     "output_type": "stream",
     "text": [
      "<class 'pandas.core.frame.DataFrame'>\n",
      "RangeIndex: 156060 entries, 0 to 156059\n",
      "Data columns (total 4 columns):\n",
      " #   Column      Non-Null Count   Dtype \n",
      "---  ------      --------------   ----- \n",
      " 0   PhraseId    156060 non-null  int64 \n",
      " 1   SentenceId  156060 non-null  int64 \n",
      " 2   Phrase      156060 non-null  object\n",
      " 3   Sentiment   156060 non-null  int64 \n",
      "dtypes: int64(3), object(1)\n",
      "memory usage: 4.8+ MB\n"
     ]
    }
   ],
   "source": [
    "# Get info about the data\n",
    "df.info()"
   ]
  },
  {
   "cell_type": "code",
   "execution_count": 6,
   "id": "5a514021",
   "metadata": {},
   "outputs": [
    {
     "data": {
      "text/plain": [
       "2    79582\n",
       "3    32927\n",
       "1    27273\n",
       "4     9206\n",
       "0     7072\n",
       "Name: Sentiment, dtype: int64"
      ]
     },
     "execution_count": 6,
     "metadata": {},
     "output_type": "execute_result"
    }
   ],
   "source": [
    "# Count the number of expressed sentiments by category\n",
    "sentiment_counts = df['Sentiment'].value_counts()\n",
    "sentiment_counts"
   ]
  },
  {
   "cell_type": "code",
   "execution_count": 7,
   "id": "ae5d765e",
   "metadata": {},
   "outputs": [
    {
     "data": {
      "image/png": "[encoded data removed]",
      "text/plain": [
       "<Figure size 640x480 with 1 Axes>"
      ]
     },
     "metadata": {},
     "output_type": "display_data"
    }
   ],
   "source": [
    "# Provide a histogram of sentiments by category\n",
    "sentiment_counts.plot(kind='bar')\n",
    "plt.xlabel('Sentiment')\n",
    "plt.ylabel('Count')\n",
    "plt.title('Sentiment Distribution')\n",
    "plt.xticks(rotation=0)\n",
    "plt.show()"
   ]
  },
  {
   "cell_type": "code",
   "execution_count": 8,
   "id": "0474fc76",
   "metadata": {},
   "outputs": [],
   "source": [
    "# Generate document term matrix using CountVectorizer\n",
    "vectorizer = CountVectorizer(token_pattern=r'\\b\\w+\\b') # Tokenize and remove symbols and numbers\n",
    "X = vectorizer.fit_transform(df['Phrase'])\n",
    "y = df['Sentiment']"
   ]
  },
  {
   "cell_type": "code",
   "execution_count": 9,
   "id": "4b594aca",
   "metadata": {},
   "outputs": [
    {
     "name": "stdout",
     "output_type": "stream",
     "text": [
      "Accuracy: 0.6112392669486095\n"
     ]
    }
   ],
   "source": [
    "# Split dataset\n",
    "X_train, X_test, y_train, y_test = train_test_split(X, y, test_size=0.3, random_state=42)\n",
    "\n",
    "# Create Multinomial Naive Bayes classifier object\n",
    "nb_classifier = MultinomialNB()\n",
    "\n",
    "# Train the classifier\n",
    "nb_classifier.fit(X_train, y_train)\n",
    "\n",
    "# Test the classifier\n",
    "y_pred = nb_classifier.predict(X_test)\n",
    "\n",
    "# Compute accuracy\n",
    "accuracy = accuracy_score(y_test, y_pred)\n",
    "print(\"Accuracy:\", accuracy)"
   ]
  },
  {
   "cell_type": "code",
   "execution_count": 10,
   "id": "d52d9142",
   "metadata": {},
   "outputs": [
    {
     "name": "stdout",
     "output_type": "stream",
     "text": [
      "TF-IDF Accuracy: 0.5815284719552309\n"
     ]
    }
   ],
   "source": [
    "# Use TF-IDF Vectorizer\n",
    "tfidf_vectorizer = TfidfVectorizer()\n",
    "X_tfidf = tfidf_vectorizer.fit_transform(df['Phrase'])\n",
    "\n",
    "# Split dataset for TF-IDF\n",
    "X_train_tfidf, X_test_tfidf, y_train_tfidf, y_test_tfidf = train_test_split(X_tfidf, y, test_size=0.3, random_state=42)\n",
    "\n",
    "# Build the Text Classification Model using TF-IDF\n",
    "nb_classifier_tfidf = MultinomialNB()\n",
    "\n",
    "# Train the classifier\n",
    "nb_classifier_tfidf.fit(X_train_tfidf, y_train_tfidf)\n",
    "\n",
    "# Test the classifier\n",
    "y_pred_tfidf = nb_classifier_tfidf.predict(X_test_tfidf)\n",
    "\n",
    "# # Compute accuracy\n",
    "accuracy_tfidf = accuracy_score(y_test_tfidf, y_pred_tfidf)\n",
    "print(\"TF-IDF Accuracy:\", accuracy_tfidf)"
   ]
  },
  {
   "cell_type": "code",
   "execution_count": 11,
   "id": "847c7dd6",
   "metadata": {},
   "outputs": [
    {
     "name": "stdout",
     "output_type": "stream",
     "text": [
      "{\n",
      "  \"usage\": {\n",
      "    \"text_units\": 1,\n",
      "    \"text_characters\": 1362,\n",
      "    \"features\": 1\n",
      "  },\n",
      "  \"sentiment\": {\n",
      "    \"targets\": [\n",
      "      {\n",
      "        \"text\": \"United Kingdom\",\n",
      "        \"score\": -0.705539,\n",
      "        \"label\": \"negative\"\n",
      "      },\n",
      "      {\n",
      "        \"text\": \"Germany\",\n",
      "        \"score\": -0.740705,\n",
      "        \"label\": \"negative\"\n",
      "      },\n",
      "      {\n",
      "        \"text\": \"Europe\",\n",
      "        \"score\": -0.83083,\n",
      "        \"label\": \"negative\"\n",
      "      }\n",
      "    ],\n",
      "    \"document\": {\n",
      "      \"score\": -0.677186,\n",
      "      \"mixed\": \"1\",\n",
      "      \"label\": \"negative\"\n",
      "    }\n",
      "  },\n",
      "  \"language\": \"en\"\n",
      "}\n"
     ]
    }
   ],
   "source": [
    "# Exercise 2 using IBM Natural Language Understanding Sentiment Example\n",
    "\n",
    "import json\n",
    "from ibm_watson import NaturalLanguageUnderstandingV1\n",
    "from ibm_cloud_sdk_core.authenticators import IAMAuthenticator\n",
    "from ibm_watson.natural_language_understanding_v1 \\\n",
    "    import Features, SentimentOptions\n",
    "\n",
    "authenticator = IAMAuthenticator('B6b5Dz_zySBHTDw1dwkY5ct5--3B7SqM6H4gOMOKt9tM')\n",
    "natural_language_understanding = NaturalLanguageUnderstandingV1(\n",
    "    version='2022-04-07',\n",
    "    authenticator=authenticator\n",
    ")\n",
    "\n",
    "natural_language_understanding.set_service_url('https://api.us-east.natural-language-understanding.watson.cloud.ibm.com/instances/f6bf9f71-2c19-441b-a45b-ed41b2483e42')\n",
    "\n",
    "response = natural_language_understanding.analyze(\n",
    "    text=\"\"\"The United Kingdom suffered one of the worst recessions among major economies last year. Germany, for example, held up better in the pandemic than it did during the global financial crisis. Provisional estimates suggest Europe's biggest economy contracted by 5% last year. EU GDP, meanwhile, is expected to have shrunk 6.4%, according to Eurostat.\n",
    "The United States fared even better by comparison, with GDP decreasing by 3.5% from the prior year.\n",
    "\"Today's figures show that the economy has experienced a serious shock as a result of the pandemic, which has been felt by countries around the world,\" UK finance minister Rishi Sunak said in a statement. \"While there are some positive signs of the economy's resilience over the winter, we know that the current lockdown continues to have a significant impact on many people and businesses.\"\n",
    "The new national lockdown in the United Kingdom, imposed on January 5, is expected to hit the economy hard in the first quarter of 2021, reversing the return to growth in the fourth quarter of 2020.\n",
    "\"It seems that a double dip [recession] was merely delayed rather than avoided outright,\" Sam Miley, an economist at the London-based Centre for Economics and Business Research said in a note on Friday.\n",
    "Disruption to EU-UK trade following the end of the Brexit transition period on December 31 is also weighing on activity.\"\"\",\n",
    "    features=Features(sentiment=SentimentOptions(targets=['United Kingdom', 'Germany', 'Europe']))).get_result()\n",
    "\n",
    "print(json.dumps(response, indent=2))\n"
   ]
  },
  {
   "cell_type": "markdown",
   "id": "781fc351",
   "metadata": {},
   "source": [
    "Source: https://medium.com/mlearning-ai/ai-in-the-real-world-2-sentiment-analysis-using-spacy-pipelines-b39a2618d7c1"
   ]
  },
  {
   "cell_type": "code",
   "execution_count": 12,
   "id": "916bacfa",
   "metadata": {},
   "outputs": [
    {
     "name": "stderr",
     "output_type": "stream",
     "text": [
      "C:\\Users\\denap\\anaconda3\\Lib\\site-packages\\transformers\\utils\\generic.py:441: UserWarning: torch.utils._pytree._register_pytree_node is deprecated. Please use torch.utils._pytree.register_pytree_node instead.\n",
      "  _torch_pytree._register_pytree_node(\n",
      "C:\\Users\\denap\\anaconda3\\Lib\\site-packages\\transformers\\utils\\generic.py:309: UserWarning: torch.utils._pytree._register_pytree_node is deprecated. Please use torch.utils._pytree.register_pytree_node instead.\n",
      "  _torch_pytree._register_pytree_node(\n"
     ]
    },
    {
     "data": {
      "text/plain": [
       "{'positive': 0.9880738854408264,\n",
       " 'negative': 0.011926074512302876,\n",
       " 'neutral': 2.1632191593567995e-09}"
      ]
     },
     "execution_count": 12,
     "metadata": {},
     "output_type": "execute_result"
    }
   ],
   "source": [
    "# Uses pretrained model\n",
    "import eng_spacysentiment\n",
    "\n",
    "nlp = eng_spacysentiment.load()\n",
    "\n",
    "# Article text\n",
    "text = \"Claudine Gay resigned Tuesday as Harvard’s president after weeks of controversy initially sparked by her testimony at a congressional hearing on antisemitism, and later focusing on allegations of plagiarism in work she had produced throughout her academic career. (Gay’s resignation was first reported by the Harvard Crimson.) Plagiarism is a particularly serious charge in academia: In 2021, the president of the University of South Carolina, Lt. Gen. Robert L. Caslen Jr., resigned after admitting that he had plagiarized a commencement speech. Plagiarism includes a broad range of possible offenses, from improperly placing a citation to claiming credit for another scholar’s research or insight, and individual institutions develop their own policies for evaluating and responding to allegations of research misconduct. Gay defended her academic record in an op-ed published Wednesday in the New York Times, saying that she addressed attribution issues promptly after learning about them, and that “I have never misrepresented my research findings, nor have I ever claimed credit for the research of others. Moreover, the citation errors should not obscure a fundamental truth: I proudly stand by my work and its impact on the field.”\"\n",
    "\n",
    "# Compute sentiment\n",
    "doc = nlp(text)\n",
    "\n",
    "# Print result\n",
    "doc.cats"
   ]
  },
  {
   "cell_type": "code",
   "execution_count": null,
   "id": "266455a9",
   "metadata": {},
   "outputs": [],
   "source": []
  }
 ],
 "metadata": {
  "kernelspec": {
   "display_name": "Python 3 (ipykernel)",
   "language": "python",
   "name": "python3"
  },
  "language_info": {
   "codemirror_mode": {
    "name": "ipython",
    "version": 3
   },
   "file_extension": ".py",
   "mimetype": "text/x-python",
   "name": "python",
   "nbconvert_exporter": "python",
   "pygments_lexer": "ipython3",
   "version": "3.11.3"
  }
 },
 "nbformat": 4,
 "nbformat_minor": 5
}
